{
 "cells": [
  {
   "cell_type": "code",
   "execution_count": 7,
   "id": "ec181e46",
   "metadata": {},
   "outputs": [
    {
     "name": "stdout",
     "output_type": "stream",
     "text": [
      "Enter your Email : bhanu0000@gmail.com\n",
      "Right email entered!\n"
     ]
    }
   ],
   "source": [
    "email=input(\"Enter your Email : \") # g@g.in / g@g.com\n",
    "j,k,d=0,0,0\n",
    "if len(email)>=6:\n",
    "    if email[0].isalpha():\n",
    "        if (\"@\" in email) and (email.count(\"@\")==1):\n",
    "            if (email[-3]==\".\") ^ (email[-4]==\".\"):\n",
    "                for i in email :\n",
    "                    if i==i.isspace():\n",
    "                        j==1\n",
    "                    elif i.isalpha():\n",
    "                        if i==i.upper():\n",
    "                            k=1\n",
    "                    elif i.isdigit():\n",
    "                        continue\n",
    "                    elif i==\"_\" or i==\".\" or i==\"@\":\n",
    "                        continue\n",
    "                    else :\n",
    "                        d=1\n",
    "        \n",
    "                if j==1 or k==1 or d==1 :\n",
    "                    print(\"5. Wrong email entered\")\n",
    "                else:\n",
    "                    print(\"Right email entered!\")\n",
    "                \n",
    "\n",
    "\n",
    "            else:\n",
    "                print(\"4. Wrong email entered! \")\n",
    "\n",
    "        else:\n",
    "            print(\"3. Wrong email entered! \")\n",
    "\n",
    "\n",
    "    else:\n",
    "        print(\"2. Wrong email entered! \")\n",
    "else:\n",
    "    print(\"1. Wrong email entered! \")\n",
    "\n"
   ]
  },
  {
   "cell_type": "code",
   "execution_count": null,
   "id": "11db922f",
   "metadata": {},
   "outputs": [],
   "source": []
  }
 ],
 "metadata": {
  "kernelspec": {
   "display_name": "Python 3 (ipykernel)",
   "language": "python",
   "name": "python3"
  },
  "language_info": {
   "codemirror_mode": {
    "name": "ipython",
    "version": 3
   },
   "file_extension": ".py",
   "mimetype": "text/x-python",
   "name": "python",
   "nbconvert_exporter": "python",
   "pygments_lexer": "ipython3",
   "version": "3.11.4"
  }
 },
 "nbformat": 4,
 "nbformat_minor": 5
}
